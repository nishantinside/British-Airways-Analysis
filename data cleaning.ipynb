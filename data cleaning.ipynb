{
 "cells": [
  {
   "cell_type": "code",
   "execution_count": 1,
   "id": "e9478c26",
   "metadata": {},
   "outputs": [],
   "source": [
    "import requests\n",
    "from bs4 import BeautifulSoup\n",
    "import pandas as pd\n",
    "import numpy as np\n",
    "import string"
   ]
  },
  {
   "cell_type": "code",
   "execution_count": 2,
   "id": "4e285615",
   "metadata": {},
   "outputs": [
    {
     "name": "stdout",
     "output_type": "stream",
     "text": [
      "(3448, 2)\n",
      "{'>', '}', '+', '\"', '*', '1', '(', '?', '@', ']', '<', ':', '~', '=', '{', '&', '\\\\', ';', ')', '|', '$', '[', '8', '#', \"'\", '!', '.', '4', ',', '6', '5', '_', '0', '/', '3', '%', '7', '`', '^', '9', '-', '2'}\n"
     ]
    }
   ],
   "source": [
    "data=pd.read_csv(\"BA_reviews.csv\")                  #change file name for another file \n",
    "print(data.shape)\n",
    "p=set(string.punctuation)                      #setting punctuations to p\n",
    "for i in range(10):                            # for adding numbers with punctuation signs\n",
    "    p.add(str(i))\n",
    "print(p)"
   ]
  },
  {
   "cell_type": "code",
   "execution_count": 40,
   "id": "3d1d2640",
   "metadata": {},
   "outputs": [],
   "source": [
    "def remove_punctuation(text,p):\n",
    "    text=text.lower()          #to make text in lowercase\n",
    "    words=text.split()          # splitting text in words\n",
    "    ctext=[]\n",
    "    for i in words:\n",
    "        t=''.join([x for x in i.encode(encoding='ascii',errors='ignore').decode('ascii') if x not in p]) #ignoring special symbols \n",
    "                                                #and characters in p that is numbers and punctuations and reading character by character in word\n",
    "        ctext.append(t)\n",
    "    return ' '.join([i for i in ctext])         #now joining those words to make a line\n",
    "\n",
    "    \n",
    "    "
   ]
  },
  {
   "cell_type": "code",
   "execution_count": 47,
   "id": "a4ed6707",
   "metadata": {},
   "outputs": [
    {
     "name": "stdout",
     "output_type": "stream",
     "text": [
      " trip verified  i must admit like many others i tend to avoid ba long haul where possible due to the many poor reviews but had my first ride on a ba a the other day so it was an exception what can i say aircraft immaculate and economy seat really comfortable but thats about it ife didnt work but wasnt that interesting anyway i got the map screenshot for a while lunch was poor quality but plenty of nice white wine and other alcoholic drinks made up for it cabin crew pleasant but poor grooming lets them down some skirts some trouser suits some long sleeves some short some jackets some waistcoat some cardigans on at time and all in all they could have done better i think baggage delivery was really quick summing up well i am still not coming back to ba not yet maybe the old charm will return soon\n"
     ]
    }
   ],
   "source": [
    "\n",
    "cleaned=remove_punctuation(data.reviews[0],p)    #testing cleaning on a sinlge line , keep coloumn name same as in file name\n",
    "print(cleaned)"
   ]
  },
  {
   "cell_type": "code",
   "execution_count": 52,
   "id": "b4b29b72",
   "metadata": {},
   "outputs": [
    {
     "name": "stdout",
     "output_type": "stream",
     "text": [
      " trip verified  i must admit like many others i tend to avoid ba long haul where possible due to the many poor reviews but had my first ride on a ba a the other day so it was an exception what can i say aircraft immaculate and economy seat really comfortable but thats about it ife didnt work but wasnt that interesting anyway i got the map screenshot for a while lunch was poor quality but plenty of nice white wine and other alcoholic drinks made up for it cabin crew pleasant but poor grooming lets them down some skirts some trouser suits some long sleeves some short some jackets some waistcoat some cardigans on at time and all in all they could have done better i think baggage delivery was really quick summing up well i am still not coming back to ba not yet maybe the old charm will return soon\n"
     ]
    }
   ],
   "source": [
    "uncleaned_data=[i for i in data.reviews]         #change coloumn name according to your csv files\n",
    "cleaned_data=[]\n",
    "for i in uncleaned_data:\n",
    "    ctxt=remove_punctuation(i,p)\n",
    "    if len(ctxt)!=0:\n",
    "        cleaned_data.append(ctxt)\n",
    "    else:\n",
    "        cleaned_data.append(\"NAN\")\n",
    "data[\"cleaned_data\"]=cleaned_data               # attaching the cleaned data as a new column to the dataset\n",
    "data.to_csv(r\"cleaned_data_BA_reviews.csv\")     # saving  cleaned data in new file , name it as you like\n",
    "                     \n",
    "   "
   ]
  },
  {
   "cell_type": "code",
   "execution_count": 53,
   "id": "5d319e1e",
   "metadata": {},
   "outputs": [
    {
     "name": "stdout",
     "output_type": "stream",
     "text": [
      "(3448, 4)\n"
     ]
    }
   ],
   "source": [
    "#taking the cleaned data and deleing rowsthat have only special symbols\n",
    "data=pd.read_csv('cleaned_data_BA_reviews.csv')\n",
    "data.drop(data[data[\"cleaned_data\"]==\"NAN\"].index,axis = 0,inplace = True) # deleting rows that have no text \n",
    "data=data.reset_index(drop='true') # after deleting rows index should be reset\n",
    "print(data.shape)\n",
    "data.to_csv (r'BA_final.csv')  # final data file after cleaning"
   ]
  },
  {
   "cell_type": "code",
   "execution_count": 3,
   "id": "6c2d2cc3",
   "metadata": {},
   "outputs": [
    {
     "data": {
      "text/plain": [
       "4910431768737195545839591417582333683515"
      ]
     },
     "execution_count": 3,
     "metadata": {},
     "output_type": "execute_result"
    }
   ],
   "source": [
    "304832422028346214034228144326872068784543438208837014565318760077136413688647660217016574085041463 % 6875432550802788522450086205424482216882\n"
   ]
  }
 ],
 "metadata": {
  "kernelspec": {
   "display_name": "Python 3 (ipykernel)",
   "language": "python",
   "name": "python3"
  },
  "language_info": {
   "codemirror_mode": {
    "name": "ipython",
    "version": 3
   },
   "file_extension": ".py",
   "mimetype": "text/x-python",
   "name": "python",
   "nbconvert_exporter": "python",
   "pygments_lexer": "ipython3",
   "version": "3.9.12"
  }
 },
 "nbformat": 4,
 "nbformat_minor": 5
}
