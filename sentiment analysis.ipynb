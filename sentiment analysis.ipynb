{
 "cells": [
  {
   "cell_type": "code",
   "execution_count": 6,
   "id": "6bd68812",
   "metadata": {
    "scrolled": true
   },
   "outputs": [
    {
     "name": "stderr",
     "output_type": "stream",
     "text": [
      "[nltk_data] Downloading package wordnet to\n",
      "[nltk_data]     C:\\Users\\NISHANT\\AppData\\Roaming\\nltk_data...\n",
      "[nltk_data]   Package wordnet is already up-to-date!\n"
     ]
    },
    {
     "data": {
      "text/plain": [
       "True"
      ]
     },
     "execution_count": 6,
     "metadata": {},
     "output_type": "execute_result"
    }
   ],
   "source": [
    "import pandas as pd\n",
    "import numpy as np\n",
    "import nltk\n",
    "nltk.download('wordnet')\n"
   ]
  },
  {
   "cell_type": "code",
   "execution_count": 7,
   "id": "1bdf0687",
   "metadata": {},
   "outputs": [],
   "source": [
    "df=pd.read_csv('BA_final.csv')"
   ]
  },
  {
   "cell_type": "code",
   "execution_count": null,
   "id": "8b211bbf",
   "metadata": {},
   "outputs": [],
   "source": []
  },
  {
   "cell_type": "code",
   "execution_count": 115,
   "id": "348bcb16",
   "metadata": {},
   "outputs": [
    {
     "data": {
      "image/png": "[encoded data removed]",
      "text/plain": [
       "<Figure size 720x432 with 1 Axes>"
      ]
     },
     "metadata": {
      "needs_background": "light"
     },
     "output_type": "display_data"
    }
   ],
   "source": [
    "# Create quick lambda functions to find the polarity of each review\n",
    "# Terminal / Anaconda Navigator: conda install -c conda-forge textblob\n",
    "#using textblob to find polarity\n",
    "from textblob import TextBlob\n",
    "df['cleaned_data']= df['cleaned_data'].astype(str) #Make sure about the correct data type\n",
    "pol = lambda x: TextBlob(x).sentiment.polarity\n",
    "df['polarity'] = df['cleaned_data'].apply(pol) # depending on the size of your data, this step may take some time.\n",
    "import matplotlib.pyplot as plt\n",
    "import seaborn as sns\n",
    "num_bins = 50\n",
    "plt.figure(figsize=(10,6))\n",
    "n, bins, patches = plt.hist(df.polarity, num_bins, facecolor='blue', alpha=0.5)\n",
    "plt.xlabel('Polarity')\n",
    "plt.ylabel('Number of Reviews')\n",
    "plt.title('Histogram of Polarity Score')\n",
    "plt.show();"
   ]
  },
  {
   "cell_type": "code",
   "execution_count": 122,
   "id": "a648fc00",
   "metadata": {
    "scrolled": true
   },
   "outputs": [],
   "source": [
    "#plt.figure(figsize=(10,10))\n",
    "#sns.boxenplot( data=df)\n",
    "#plt.xlabel('Good_reviews')\n",
    "#plt.ylabel('polarity')\n",
    "#plt.show();"
   ]
  },
  {
   "cell_type": "markdown",
   "id": "dd0da997",
   "metadata": {},
   "source": [
    "df2=pd.DataFrame({'cleaned_data':df['cleaned_data'],'good_reviews':[]})\n",
    "\n"
   ]
  },
  {
   "cell_type": "code",
   "execution_count": 117,
   "id": "7cf706c8",
   "metadata": {},
   "outputs": [
    {
     "name": "stdout",
     "output_type": "stream",
     "text": [
      "2457\n"
     ]
    }
   ],
   "source": [
    "c=df['polarity'].tolist()\n",
    "summ=0\n",
    "\n",
    "for i in range(len(c)):\n",
    "    if c[i]>0:\n",
    "        summ=summ+1\n",
    "print(summ)   \n"
   ]
  },
  {
   "cell_type": "code",
   "execution_count": 120,
   "id": "1a2813af",
   "metadata": {},
   "outputs": [
    {
     "name": "stderr",
     "output_type": "stream",
     "text": [
      "C:\\Users\\NISHANT\\AppData\\Local\\Temp\\ipykernel_22196\\1704872524.py:4: SettingWithCopyWarning: \n",
      "A value is trying to be set on a copy of a slice from a DataFrame\n",
      "\n",
      "See the caveats in the documentation: https://pandas.pydata.org/pandas-docs/stable/user_guide/indexing.html#returning-a-view-versus-a-copy\n",
      "  df['review'][i]='good'\n",
      "C:\\Users\\NISHANT\\AppData\\Local\\Temp\\ipykernel_22196\\1704872524.py:14: SettingWithCopyWarning: \n",
      "A value is trying to be set on a copy of a slice from a DataFrame\n",
      "\n",
      "See the caveats in the documentation: https://pandas.pydata.org/pandas-docs/stable/user_guide/indexing.html#returning-a-view-versus-a-copy\n",
      "  df['review'][i]='bad'\n",
      "C:\\Users\\NISHANT\\AppData\\Local\\Temp\\ipykernel_22196\\1704872524.py:6: SettingWithCopyWarning: \n",
      "A value is trying to be set on a copy of a slice from a DataFrame\n",
      "\n",
      "See the caveats in the documentation: https://pandas.pydata.org/pandas-docs/stable/user_guide/indexing.html#returning-a-view-versus-a-copy\n",
      "  df['review'][i]='better'\n",
      "C:\\Users\\NISHANT\\AppData\\Local\\Temp\\ipykernel_22196\\1704872524.py:12: SettingWithCopyWarning: \n",
      "A value is trying to be set on a copy of a slice from a DataFrame\n",
      "\n",
      "See the caveats in the documentation: https://pandas.pydata.org/pandas-docs/stable/user_guide/indexing.html#returning-a-view-versus-a-copy\n",
      "  df['review'][i]='worse'\n",
      "C:\\Users\\NISHANT\\AppData\\Local\\Temp\\ipykernel_22196\\1704872524.py:8: SettingWithCopyWarning: \n",
      "A value is trying to be set on a copy of a slice from a DataFrame\n",
      "\n",
      "See the caveats in the documentation: https://pandas.pydata.org/pandas-docs/stable/user_guide/indexing.html#returning-a-view-versus-a-copy\n",
      "  df['review'][i]='best'\n",
      "C:\\Users\\NISHANT\\AppData\\Local\\Temp\\ipykernel_22196\\1704872524.py:10: SettingWithCopyWarning: \n",
      "A value is trying to be set on a copy of a slice from a DataFrame\n",
      "\n",
      "See the caveats in the documentation: https://pandas.pydata.org/pandas-docs/stable/user_guide/indexing.html#returning-a-view-versus-a-copy\n",
      "  df['review'][i]='worst'\n"
     ]
    }
   ],
   "source": [
    "#df['review']=np.nan\n",
    "#categorising reviews based on polarity\n",
    "for i in  range(len(df['polarity'])):\n",
    "    if df['polarity'][i]>=0 and df['polarity'][i]<=0.33:\n",
    "        df['review'][i]='good'\n",
    "    elif df['polarity'][i]>=0.33 and df['polarity'][i]<=0.67:\n",
    "        df['review'][i]='better'\n",
    "    elif df['polarity'][i]>=0.67 and df['polarity'][i]<=1:\n",
    "        df['review'][i]='best'\n",
    "    elif df['polarity'][i]>=-1 and df['polarity'][i]<=-0.67:\n",
    "        df['review'][i]='worst'\n",
    "    elif df['polarity'][i]>=-0.67 and df['polarity'][i]<=-0.33:\n",
    "        df['review'][i]='worse'\n",
    "    elif df['polarity'][i]>=-0.33 and df['polarity'][i]<=0:\n",
    "        df['review'][i]='bad'    \n",
    "    "
   ]
  },
  {
   "cell_type": "code",
   "execution_count": 121,
   "id": "bc7eb147",
   "metadata": {},
   "outputs": [
    {
     "name": "stdout",
     "output_type": "stream",
     "text": [
      "      Unnamed: 0.2  Unnamed: 0.1  Unnamed: 0  \\\n",
      "0                0             0           0   \n",
      "1                1             1           1   \n",
      "2                2             2           2   \n",
      "3                3             3           3   \n",
      "4                4             4           4   \n",
      "...            ...           ...         ...   \n",
      "3443          3443          3443        3443   \n",
      "3444          3444          3444        3444   \n",
      "3445          3445          3445        3445   \n",
      "3446          3446          3446        3446   \n",
      "3447          3447          3447        3447   \n",
      "\n",
      "                                                reviews  \\\n",
      "0     ✅ Trip Verified | I must admit like many other...   \n",
      "1     Not Verified |  When will BA update their Busi...   \n",
      "2     ✅ Trip Verified |  Paid £200 day before flight...   \n",
      "3     ✅ Trip Verified |  BA website did not work (we...   \n",
      "4     ✅ Trip Verified |  Absolutely terrible experie...   \n",
      "...                                                 ...   \n",
      "3443  HKG-LHR in New Club World on Boeing 777-300 - ...   \n",
      "3444  LHR to HAM. Purser addresses all club passenge...   \n",
      "3445  My son who had worked for British Airways urge...   \n",
      "3446  London City-New York JFK via Shannon on A318 b...   \n",
      "3447  SIN-LHR BA12 B747-436 First Class. Old aircraf...   \n",
      "\n",
      "                                           cleaned_data  polarity  review  \n",
      "0      trip verified  i must admit like many others ...  0.097338    good  \n",
      "1     not verified  when will ba update their busine... -0.019048     bad  \n",
      "2      trip verified  paid  day before flight for an...  0.085049    good  \n",
      "3      trip verified  ba website did not work weirdl... -0.130010     bad  \n",
      "4      trip verified  absolutely terrible experience... -0.090972     bad  \n",
      "...                                                 ...       ...     ...  \n",
      "3443  hkglhr in new club world on boeing    bought t...  0.180657    good  \n",
      "3444  lhr to ham purser addresses all club passenger...  0.173214    good  \n",
      "3445  my son who had worked for british airways urge...  0.143148    good  \n",
      "3446  london citynew york jfk via shannon on a but h...  0.351667  better  \n",
      "3447  sinlhr ba b first class old aircraft  with sea... -0.018084     bad  \n",
      "\n",
      "[3448 rows x 7 columns]\n"
     ]
    }
   ],
   "source": [
    "print(df)"
   ]
  },
  {
   "cell_type": "code",
   "execution_count": null,
   "id": "bff0f13a",
   "metadata": {},
   "outputs": [],
   "source": [
    "\n",
    "    "
   ]
  },
  {
   "cell_type": "code",
   "execution_count": 169,
   "id": "512ba607",
   "metadata": {},
   "outputs": [],
   "source": [
    "#counting the  each categories\n",
    "def summ(data):\n",
    "    d=['good','better','best','bad','worse','worst']\n",
    "    good=0\n",
    "    better=0\n",
    "    best=0\n",
    "    bad=0\n",
    "    worse=0\n",
    "    worst=0\n",
    "    c=data\n",
    "    for i in range(len(c)):\n",
    "        if c[i]=='good':\n",
    "            good=good+1\n",
    "        elif c[i]=='better':\n",
    "            better=better+1\n",
    "        elif c[i]=='best':\n",
    "            best=best+1\n",
    "        elif c[i]=='bad':\n",
    "            bad=bad+1 \n",
    "        elif c[i]=='worse':\n",
    "            worse=worse+1\n",
    "        elif c[i]=='worst':\n",
    "            worst=worst+1    \n",
    "            \n",
    "            \n",
    "    return(d,listt=[good,better,best,bad,worse,worst])            "
   ]
  },
  {
   "cell_type": "code",
   "execution_count": 173,
   "id": "d36c5455",
   "metadata": {},
   "outputs": [
    {
     "name": "stdout",
     "output_type": "stream",
     "text": [
      "['good', 'better', 'best', 'bad', 'worse', 'worst']\n",
      "[2130, 335, 6, 940, 36, 1]\n"
     ]
    }
   ],
   "source": [
    "d,listt=summ(df.review.tolist())\n",
    "print(d)\n",
    "print(listt)"
   ]
  },
  {
   "cell_type": "code",
   "execution_count": 177,
   "id": "58fb87ea",
   "metadata": {},
   "outputs": [
    {
     "data": {
      "image/png": "[encoded data removed]",
      "text/plain": [
       "<Figure size 432x288 with 1 Axes>"
      ]
     },
     "metadata": {},
     "output_type": "display_data"
    }
   ],
   "source": [
    "# colors\n",
    "colors = ['#FF0000', '#0000FF', '#000000', \n",
    "          '#ADFF2F', '#FFA500','#FFEBCD']\n",
    "\n",
    "# explosion\n",
    "explode = (0.05, 0.05, 0.05, 0.05, 0.05,0.5)\n",
    "plt.pie(listt, colors=colors, labels=d,\n",
    "        autopct='%1.1f%%', pctdistance=0.85,\n",
    "        explode=explode)\n",
    "plt.show()"
   ]
  },
  {
   "cell_type": "code",
   "execution_count": 181,
   "id": "24031c83",
   "metadata": {},
   "outputs": [
    {
     "data": {
      "text/plain": [
       "4910431768737195545839591417582333683515"
      ]
     },
     "execution_count": 181,
     "metadata": {},
     "output_type": "execute_result"
    }
   ],
   "source": [
    "\n",
    "304832422028346214034228144326872068784543438208837014565318760077136413688647660217016574085041463 %6875432550802788522450086205424482216882"
   ]
  },
  {
   "cell_type": "code",
   "execution_count": null,
   "id": "29b74d9a",
   "metadata": {},
   "outputs": [],
   "source": []
  },
  {
   "cell_type": "code",
   "execution_count": null,
   "id": "06f04431",
   "metadata": {},
   "outputs": [],
   "source": []
  },
  {
   "cell_type": "code",
   "execution_count": 187,
   "id": "a5cb180e",
   "metadata": {},
   "outputs": [
    {
     "name": "stdout",
     "output_type": "stream",
     "text": [
      "1: 1\n",
      "2: 2\n",
      "3: Fizz\n",
      "4: 4\n",
      "5: Buzz\n",
      "6: Fizz\n",
      "7: 7\n",
      "8: 8\n",
      "9: Fizz\n",
      "10: Buzz\n",
      "11: 11\n",
      "12: Fizz\n",
      "13: 13\n",
      "14: 14\n",
      "15: FizzBuzz\n",
      "Most cursed code\n"
     ]
    }
   ],
   "source": [
    "for i in range(1, 101):\n",
    "    output = \"\"\n",
    "    if i % 3 == 0:\n",
    "        output += \"Fizz\"\n",
    "    if i % 5 == 0:\n",
    "        output += \"Buzz\"\n",
    "    if not output:\n",
    "        output = i\n",
    "    print(f\"{i}: {output}\")\n",
    "    if output == \"FizzBuzz\":\n",
    "        break\n",
    "print(\"Most cursed code\")\n"
   ]
  },
  {
   "cell_type": "code",
   "execution_count": null,
   "id": "30594693",
   "metadata": {},
   "outputs": [],
   "source": []
  }
 ],
 "metadata": {
  "kernelspec": {
   "display_name": "Python 3 (ipykernel)",
   "language": "python",
   "name": "python3"
  },
  "language_info": {
   "codemirror_mode": {
    "name": "ipython",
    "version": 3
   },
   "file_extension": ".py",
   "mimetype": "text/x-python",
   "name": "python",
   "nbconvert_exporter": "python",
   "pygments_lexer": "ipython3",
   "version": "3.9.12"
  }
 },
 "nbformat": 4,
 "nbformat_minor": 5
}
